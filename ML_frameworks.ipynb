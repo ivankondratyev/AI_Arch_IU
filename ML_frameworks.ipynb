{
  "nbformat": 4,
  "nbformat_minor": 0,
  "metadata": {
    "colab": {
      "provenance": []
    },
    "kernelspec": {
      "name": "python3",
      "display_name": "Python 3"
    },
    "language_info": {
      "name": "python"
    }
  },
  "cells": [
    {
      "cell_type": "code",
      "execution_count": 94,
      "metadata": {
        "id": "oWgRoDqQWAy7"
      },
      "outputs": [],
      "source": [
        "import pandas as pd\n",
        "import numpy as np\n",
        "import random\n",
        "from sklearn.preprocessing import LabelEncoder\n",
        "#Создаем списки средних баллов студентов и заполняем случайными числами\n",
        "n = 2000\n",
        "Phisycs=[]\n",
        "Math = []\n",
        "Chemistry = []\n",
        "Thermodynamics = []\n",
        "Statistic = []\n",
        "Probability_theory = []\n",
        "n=2000\n",
        "for i in range(n):\n",
        "    Phisycs.append(random.randint(0,99))\n",
        "    Math.append(random.randint(0,99))\n",
        "    Chemistry.append(random.randint(0,99))\n",
        "    Thermodynamics.append(random.randint(0,99))\n",
        "    Statistic.append(random.randint(0,99))\n",
        "    Probability_theory.append(random.randint(0,99))\n",
        "#Время выполнения, распределенное нормально\n",
        "random_normal_time = np.random.normal(60,15,2000)\n",
        "Time = np.array(random_normal_time, dtype = int).tolist()\n",
        "data = {'Phisycs':Phisycs, 'Math':Math, 'Chemistry':Chemistry, 'Thermodynamics':Thermodynamics, 'Statistic':Statistic, 'Probability_theory':Probability_theory, 'Time':Time}\n",
        "df = pd.DataFrame(data)\n",
        "#Функция, заполняющая столбец оценок в зависимости от суммы быллов по предметам\n",
        "def fill_grade(row):\n",
        "    if (row['Phisycs'] + row['Math'] + row['Chemistry'] + row['Thermodynamics'] + row['Statistic'] + row['Probability_theory'])>= 400:\n",
        "        return 'Отлично'\n",
        "    elif 300 < (row['Phisycs'] + row['Math'] + row['Chemistry'] + row['Thermodynamics'] + row['Statistic'] + row['Probability_theory']) < 400:\n",
        "        return 'Хорошо'\n",
        "    else:\n",
        "        return 'Удовлетворительно'\n",
        "# Применение функции к каждой строке DataFrame и заполнение столбца оценок\n",
        "df['Grade'] = df.apply(fill_grade, axis=1)\n",
        "#Преобразуем категориальные данные в числовые\n",
        "le = LabelEncoder()\n",
        "le.fit(df.Grade)\n",
        "df.Grade = le.transform(df.Grade)"
      ]
    },
    {
      "cell_type": "markdown",
      "source": [
        "Разбить на тестовую и обучающую выборку"
      ],
      "metadata": {
        "id": "vzanDJ0MEod_"
      }
    },
    {
      "cell_type": "code",
      "source": [
        "from sklearn.model_selection import train_test_split\n",
        "x_train, x_test, y_train, y_test = train_test_split(df[['Probability_theory','Statistic', 'Phisycs']], df.Grade,test_size = 0.2, random_state=2)"
      ],
      "metadata": {
        "id": "uhREOV_UErMA"
      },
      "execution_count": 95,
      "outputs": []
    },
    {
      "cell_type": "markdown",
      "source": [
        "Выбор признаков"
      ],
      "metadata": {
        "id": "RzLiEeyGBEVF"
      }
    },
    {
      "cell_type": "code",
      "source": [
        "#выбор с помощью матрицы корелляций\n",
        "df.corr()\n",
        "# выбор признаков методом RandomForestRegressor\n",
        "from sklearn.ensemble import RandomForestRegressor\n",
        "rf = RandomForestRegressor(n_estimators = 100)\n",
        "rf.fit(df.drop('Grade', axis=1), df.Grade)\n",
        "imp = rf.feature_importances_ - 0.05\n",
        "from matplotlib import pyplot as plt\n",
        "plt.barh(df.drop('Grade', axis=1).columns,imp)\n"
      ],
      "metadata": {
        "colab": {
          "base_uri": "https://localhost:8080/",
          "height": 447
        },
        "id": "HlOlvpCaBGg0",
        "outputId": "da288b3c-7a88-439e-ee3f-6b6f90ffe21f"
      },
      "execution_count": 96,
      "outputs": [
        {
          "output_type": "execute_result",
          "data": {
            "text/plain": [
              "<BarContainer object of 7 artists>"
            ]
          },
          "metadata": {},
          "execution_count": 96
        },
        {
          "output_type": "display_data",
          "data": {
            "text/plain": [
              "<Figure size 640x480 with 1 Axes>"
            ],
            "image/png": "[encoded data removed]"
          },
          "metadata": {}
        }
      ]
    },
    {
      "cell_type": "markdown",
      "source": [
        "Создание модели"
      ],
      "metadata": {
        "id": "y3FEApbAGIQA"
      }
    },
    {
      "cell_type": "code",
      "source": [
        "pip install catboost\n"
      ],
      "metadata": {
        "colab": {
          "base_uri": "https://localhost:8080/"
        },
        "id": "V9ec03oSGKh2",
        "outputId": "588ac7f2-a02a-495d-d571-4fcc4e16df46"
      },
      "execution_count": 97,
      "outputs": [
        {
          "output_type": "stream",
          "name": "stdout",
          "text": [
            "Requirement already satisfied: catboost in /usr/local/lib/python3.10/dist-packages (1.2.1)\n",
            "Requirement already satisfied: graphviz in /usr/local/lib/python3.10/dist-packages (from catboost) (0.20.1)\n",
            "Requirement already satisfied: matplotlib in /usr/local/lib/python3.10/dist-packages (from catboost) (3.7.1)\n",
            "Requirement already satisfied: numpy>=1.16.0 in /usr/local/lib/python3.10/dist-packages (from catboost) (1.23.5)\n",
            "Requirement already satisfied: pandas>=0.24 in /usr/local/lib/python3.10/dist-packages (from catboost) (1.5.3)\n",
            "Requirement already satisfied: scipy in /usr/local/lib/python3.10/dist-packages (from catboost) (1.11.2)\n",
            "Requirement already satisfied: plotly in /usr/local/lib/python3.10/dist-packages (from catboost) (5.15.0)\n",
            "Requirement already satisfied: six in /usr/local/lib/python3.10/dist-packages (from catboost) (1.16.0)\n",
            "Requirement already satisfied: python-dateutil>=2.8.1 in /usr/local/lib/python3.10/dist-packages (from pandas>=0.24->catboost) (2.8.2)\n",
            "Requirement already satisfied: pytz>=2020.1 in /usr/local/lib/python3.10/dist-packages (from pandas>=0.24->catboost) (2023.3.post1)\n",
            "Requirement already satisfied: contourpy>=1.0.1 in /usr/local/lib/python3.10/dist-packages (from matplotlib->catboost) (1.1.0)\n",
            "Requirement already satisfied: cycler>=0.10 in /usr/local/lib/python3.10/dist-packages (from matplotlib->catboost) (0.11.0)\n",
            "Requirement already satisfied: fonttools>=4.22.0 in /usr/local/lib/python3.10/dist-packages (from matplotlib->catboost) (4.42.1)\n",
            "Requirement already satisfied: kiwisolver>=1.0.1 in /usr/local/lib/python3.10/dist-packages (from matplotlib->catboost) (1.4.5)\n",
            "Requirement already satisfied: packaging>=20.0 in /usr/local/lib/python3.10/dist-packages (from matplotlib->catboost) (23.1)\n",
            "Requirement already satisfied: pillow>=6.2.0 in /usr/local/lib/python3.10/dist-packages (from matplotlib->catboost) (9.4.0)\n",
            "Requirement already satisfied: pyparsing>=2.3.1 in /usr/local/lib/python3.10/dist-packages (from matplotlib->catboost) (3.1.1)\n",
            "Requirement already satisfied: tenacity>=6.2.0 in /usr/local/lib/python3.10/dist-packages (from plotly->catboost) (8.2.3)\n"
          ]
        }
      ]
    },
    {
      "cell_type": "code",
      "source": [
        "from catboost import CatBoostClassifier\n",
        "model = CatBoostClassifier(iterations = 200, depth = 4, learning_rate = 0.1)\n",
        "model.fit(x_train,y_train, silent=True)\n",
        "# определяем точность модели\n",
        "print(f'Точность модели: {model.score(x_test,y_test)*100}%')\n",
        "# Сохраняем модель в файл\n",
        "model.save_model('grade_model.cbm')"
      ],
      "metadata": {
        "colab": {
          "base_uri": "https://localhost:8080/"
        },
        "id": "BRx_3ckeGr1Q",
        "outputId": "a6c323e8-38f8-4ff6-d768-5031b8c588ce"
      },
      "execution_count": 98,
      "outputs": [
        {
          "output_type": "stream",
          "name": "stdout",
          "text": [
            "Точность модели: 65.0%\n"
          ]
        }
      ]
    },
    {
      "cell_type": "markdown",
      "source": [
        "Функция, прогнозирующая оценку"
      ],
      "metadata": {
        "id": "pyrEBA5UI4AS"
      }
    },
    {
      "cell_type": "code",
      "source": [
        "def PredictGrade(student_scores):\n",
        "    # Преобразование данных новой квартиры в DataFrame\n",
        "    new_data = pd.DataFrame(student_scores)\n",
        "    # Использование модели для предсказания\n",
        "    predicted_grade = model.predict(new_data)[0]\n",
        "    # Преобразование обратно в текстовую категорию\n",
        "    if predicted_grade == 1:\n",
        "      predicted_grade = 'Удовлетворительно'\n",
        "    elif predicted_grade == 2:\n",
        "      predicted_grade = 'Хорошо'\n",
        "    else:\n",
        "      predicted_grade = 'Отлично'\n",
        "    return predicted_grade\n",
        "first_student_scores = [{'Phisycs':100, 'Math':100, 'Chemistry':100, 'Thermodynamics':90, 'Statistic':100, 'Probability_theory':100, 'Time':45}]\n",
        "second_student_scores = [{'Phisycs':0, 'Math':0, 'Chemistry':25, 'Thermodynamics':50, 'Statistic':10, 'Probability_theory':44, 'Time':70}]\n",
        "grade1 = PredictGrade(first_student_scores)\n",
        "grade2 = PredictGrade(second_student_scores)\n",
        "print(f'Прогнозируемая оценка первого студента: {grade1}')\n",
        "print(f'Прогнозируемая оценка второго студента: {grade2}')"
      ],
      "metadata": {
        "colab": {
          "base_uri": "https://localhost:8080/"
        },
        "id": "ZbkKZ3dlI8PO",
        "outputId": "d4bbc7a7-e5c8-418f-b6df-0f6876a34443"
      },
      "execution_count": 99,
      "outputs": [
        {
          "output_type": "stream",
          "name": "stdout",
          "text": [
            "Прогнозируемая оценка первого студента: Хорошо\n",
            "Прогнозируемая оценка второго студента: Удовлетворительно\n"
          ]
        }
      ]
    }
  ]
}